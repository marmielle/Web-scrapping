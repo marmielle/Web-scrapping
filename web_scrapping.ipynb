{
 "cells": [
  {
   "cell_type": "markdown",
   "metadata": {},
   "source": [
    "# <div style=\"text-align: center\"> Goldman Sachs - Kozminski University Project\n",
    "\n",
    "## Goal - Provide transparency of relationships between various EU regulations"
   ]
  },
  {
   "cell_type": "markdown",
   "metadata": {},
   "source": [
    "## Scraping"
   ]
  },
  {
   "cell_type": "markdown",
   "metadata": {},
   "source": [
    "### Importing packages"
   ]
  },
  {
   "cell_type": "code",
   "execution_count": 2,
   "metadata": {},
   "outputs": [],
   "source": [
    "import bs4 as bs\n",
    "import urllib.request as ur\n",
    "import requests\n",
    "import pandas as pd\n",
    "import re\n",
    "import numpy as np\n",
    "from bs4 import BeautifulSoup\n",
    "from time import sleep\n",
    "import yake"
   ]
  },
  {
   "cell_type": "markdown",
   "metadata": {},
   "source": [
    "### Tool to retrieve all regulation links from the website"
   ]
  },
  {
   "cell_type": "markdown",
   "metadata": {},
   "source": [
    "This tool can be used for automatic extraction of all regulation links"
   ]
  },
  {
   "cell_type": "code",
   "execution_count": 4,
   "metadata": {},
   "outputs": [
    {
     "ename": "KeyboardInterrupt",
     "evalue": "",
     "output_type": "error",
     "traceback": [
      "\u001b[0;31m---------------------------------------------------------------------------\u001b[0m",
      "\u001b[0;31mKeyboardInterrupt\u001b[0m                         Traceback (most recent call last)",
      "\u001b[0;32m<ipython-input-4-4681c87001ef>\u001b[0m in \u001b[0;36m<module>\u001b[0;34m\u001b[0m\n\u001b[1;32m      8\u001b[0m     \u001b[0mresponse\u001b[0m \u001b[0;34m=\u001b[0m \u001b[0mrequests\u001b[0m\u001b[0;34m.\u001b[0m\u001b[0mget\u001b[0m\u001b[0;34m(\u001b[0m\u001b[0mpage_base_url\u001b[0m \u001b[0;34m+\u001b[0m \u001b[0mstr\u001b[0m\u001b[0;34m(\u001b[0m\u001b[0mi\u001b[0m\u001b[0;34m)\u001b[0m\u001b[0;34m)\u001b[0m\u001b[0;34m\u001b[0m\u001b[0;34m\u001b[0m\u001b[0m\n\u001b[1;32m      9\u001b[0m     \u001b[0;32mfor\u001b[0m \u001b[0mpath\u001b[0m \u001b[0;32min\u001b[0m  \u001b[0mre\u001b[0m\u001b[0;34m.\u001b[0m\u001b[0mfindall\u001b[0m\u001b[0;34m(\u001b[0m\u001b[0mhtml_link_re\u001b[0m\u001b[0;34m,\u001b[0m \u001b[0mresponse\u001b[0m\u001b[0;34m.\u001b[0m\u001b[0mtext\u001b[0m\u001b[0;34m)\u001b[0m\u001b[0;34m:\u001b[0m\u001b[0;34m\u001b[0m\u001b[0;34m\u001b[0m\u001b[0m\n\u001b[0;32m---> 10\u001b[0;31m         \u001b[0msleep\u001b[0m\u001b[0;34m(\u001b[0m\u001b[0;36m1\u001b[0m\u001b[0;34m)\u001b[0m\u001b[0;34m\u001b[0m\u001b[0;34m\u001b[0m\u001b[0m\n\u001b[0m\u001b[1;32m     11\u001b[0m         \u001b[0mcontinua\u001b[0m \u001b[0;34m=\u001b[0m \u001b[0;36m1\u001b[0m\u001b[0;34m\u001b[0m\u001b[0;34m\u001b[0m\u001b[0m\n\u001b[1;32m     12\u001b[0m \u001b[0;34m\u001b[0m\u001b[0m\n",
      "\u001b[0;31mKeyboardInterrupt\u001b[0m: "
     ]
    }
   ],
   "source": [
    "domain = 'http://eur-lex.europa.eu/'\n",
    "page_base_url = 'https://eur-lex.europa.eu/search.html?instInvStatus=ALL&qid=1407932788225&type=advanced&lang=en&SUBDOM_INIT=EU_CASE_LAW&FM_CODED=REG&page='\n",
    "hook_text = './legal-content/EN/TXT/HTML/?'\n",
    "html_link_re = re.compile(r'./legal-content/EN/TXT/HTML/[^\"]*')\n",
    "\n",
    "url_list = []\n",
    "for i in range(1,10):\n",
    "    response = requests.get(page_base_url + str(i))\n",
    "    for path in  re.findall(html_link_re, response.text):\n",
    "        sleep(1)\n",
    "        continua = 1\n",
    "\n",
    "        urls = domain + path[2:]\n",
    "        url_list.append(urls)"
   ]
  },
  {
   "cell_type": "code",
   "execution_count": 3,
   "metadata": {},
   "outputs": [
    {
     "data": {
      "text/plain": [
       "['http://eur-lex.europa.eu/legal-content/EN/TXT/HTML/?uri=CELEX:32021R0954&amp;rid=1',\n",
       " 'http://eur-lex.europa.eu/legal-content/EN/TXT/HTML/?uri=CELEX:32021R0953&amp;rid=2',\n",
       " 'http://eur-lex.europa.eu/legal-content/EN/TXT/HTML/?uri=CELEX:32021R0947&amp;rid=3',\n",
       " 'http://eur-lex.europa.eu/legal-content/EN/TXT/HTML/?uri=CELEX:32021R0888&amp;rid=4',\n",
       " 'http://eur-lex.europa.eu/legal-content/EN/TXT/HTML/?uri=CELEX:32021R0819&amp;rid=5',\n",
       " 'http://eur-lex.europa.eu/legal-content/EN/TXT/HTML/?uri=CELEX:32021R0818&amp;rid=6',\n",
       " 'http://eur-lex.europa.eu/legal-content/EN/TXT/HTML/?uri=CELEX:32021R0817&amp;rid=7',\n",
       " 'http://eur-lex.europa.eu/legal-content/EN/TXT/HTML/?uri=CELEX:32021R0847&amp;rid=8',\n",
       " 'http://eur-lex.europa.eu/legal-content/EN/TXT/HTML/?uri=CELEX:32021R0840&amp;rid=9',\n",
       " 'http://eur-lex.europa.eu/legal-content/EN/TXT/HTML/?uri=CELEX:32021R0783&amp;rid=10',\n",
       " 'http://eur-lex.europa.eu/legal-content/EN/TXT/HTML/?uri=CELEX:32021R0782&amp;rid=11',\n",
       " 'http://eur-lex.europa.eu/legal-content/EN/TXT/HTML/?uri=CELEX:32021R0784&amp;rid=12',\n",
       " 'http://eur-lex.europa.eu/legal-content/EN/TXT/HTML/?uri=CELEX:32021R0785&amp;rid=13',\n",
       " 'http://eur-lex.europa.eu/legal-content/EN/TXT/HTML/?uri=CELEX:32021R0696&amp;rid=14',\n",
       " 'http://eur-lex.europa.eu/legal-content/EN/TXT/HTML/?uri=CELEX:32021R0695&amp;rid=15',\n",
       " 'http://eur-lex.europa.eu/legal-content/EN/TXT/HTML/?uri=CELEX:32021R0697&amp;rid=16',\n",
       " 'http://eur-lex.europa.eu/legal-content/EN/TXT/HTML/?uri=CELEX:32021R0694&amp;rid=17',\n",
       " 'http://eur-lex.europa.eu/legal-content/EN/TXT/HTML/?uri=CELEX:32021R0692&amp;rid=18',\n",
       " 'http://eur-lex.europa.eu/legal-content/EN/TXT/HTML/?uri=CELEX:32021R0693&amp;rid=19',\n",
       " 'http://eur-lex.europa.eu/legal-content/EN/TXT/HTML/?uri=CELEX:32021R0691&amp;rid=20',\n",
       " 'http://eur-lex.europa.eu/legal-content/EN/TXT/HTML/?uri=CELEX:32021R0690&amp;rid=21',\n",
       " 'http://eur-lex.europa.eu/legal-content/EN/TXT/HTML/?uri=CELEX:32021R0522&amp;rid=22',\n",
       " 'http://eur-lex.europa.eu/legal-content/EN/TXT/HTML/?uri=CELEX:32021R0523&amp;rid=23',\n",
       " 'http://eur-lex.europa.eu/legal-content/EN/TXT/HTML/?uri=CELEX:32021R0267&amp;rid=24',\n",
       " 'http://eur-lex.europa.eu/legal-content/EN/TXT/HTML/?uri=CELEX:32021R0241&amp;rid=25',\n",
       " 'http://eur-lex.europa.eu/legal-content/EN/TXT/HTML/?uri=CELEX:32021R0240&amp;rid=26',\n",
       " 'http://eur-lex.europa.eu/legal-content/EN/TXT/HTML/?uri=CELEX:32021R0056&amp;rid=27',\n",
       " 'http://eur-lex.europa.eu/legal-content/EN/TXT/HTML/?uri=CELEX:32021R0023&amp;rid=28',\n",
       " 'http://eur-lex.europa.eu/legal-content/EN/TXT/HTML/?uri=CELEX:32020R2220&amp;rid=29',\n",
       " 'http://eur-lex.europa.eu/legal-content/EN/TXT/HTML/?uri=CELEX:32020R2222&amp;rid=30',\n",
       " 'http://eur-lex.europa.eu/legal-content/EN/TXT/HTML/?uri=CELEX:32020R2092&amp;rid=31',\n",
       " 'http://eur-lex.europa.eu/legal-content/EN/TXT/HTML/?uri=CELEX:32020R2170&amp;rid=32',\n",
       " 'http://eur-lex.europa.eu/legal-content/EN/TXT/HTML/?uri=CELEX:32020R1783&amp;rid=33',\n",
       " 'http://eur-lex.europa.eu/legal-content/EN/TXT/HTML/?uri=CELEX:32020R1784&amp;rid=34',\n",
       " 'http://eur-lex.europa.eu/legal-content/EN/TXT/HTML/?uri=CELEX:32020R1503&amp;rid=35',\n",
       " 'http://eur-lex.europa.eu/legal-content/EN/TXT/HTML/?uri=CELEX:32020R1429&amp;rid=36',\n",
       " 'http://eur-lex.europa.eu/legal-content/EN/TXT/HTML/?uri=CELEX:32020R1056&amp;rid=37',\n",
       " 'http://eur-lex.europa.eu/legal-content/EN/TXT/HTML/?uri=CELEX:32020R1042&amp;rid=38',\n",
       " 'http://eur-lex.europa.eu/legal-content/EN/TXT/HTML/?uri=CELEX:32020R1043&amp;rid=39',\n",
       " 'http://eur-lex.europa.eu/legal-content/EN/TXT/HTML/?uri=CELEX:32020R0852&amp;rid=40',\n",
       " 'http://eur-lex.europa.eu/legal-content/EN/TXT/HTML/?uri=CELEX:32020R0740&amp;rid=41',\n",
       " 'http://eur-lex.europa.eu/legal-content/EN/TXT/HTML/?uri=CELEX:32020R0741&amp;rid=42',\n",
       " 'http://eur-lex.europa.eu/legal-content/EN/TXT/HTML/?uri=CELEX:32020R0698&amp;rid=43',\n",
       " 'http://eur-lex.europa.eu/legal-content/EN/TXT/HTML/?uri=CELEX:32020R0493&amp;rid=44',\n",
       " 'http://eur-lex.europa.eu/legal-content/EN/TXT/HTML/?uri=CELEX:32019R2144&amp;rid=45',\n",
       " 'http://eur-lex.europa.eu/legal-content/EN/TXT/HTML/?uri=CELEX:32019R2152&amp;rid=46',\n",
       " 'http://eur-lex.europa.eu/legal-content/EN/TXT/HTML/?uri=CELEX:32019R2088&amp;rid=47',\n",
       " 'http://eur-lex.europa.eu/legal-content/EN/TXT/HTML/?uri=CELEX:32019R2033&amp;rid=48',\n",
       " 'http://eur-lex.europa.eu/legal-content/EN/TXT/HTML/?uri=CELEX:32019R1896&amp;rid=49',\n",
       " 'http://eur-lex.europa.eu/legal-content/EN/TXT/HTML/?uri=CELEX:32019R1753&amp;rid=50',\n",
       " 'http://eur-lex.europa.eu/legal-content/EN/TXT/HTML/?uri=CELEX:32019R1700&amp;rid=51',\n",
       " 'http://eur-lex.europa.eu/legal-content/EN/TXT/HTML/?uri=CELEX:32019R1381&amp;rid=52',\n",
       " 'http://eur-lex.europa.eu/legal-content/EN/TXT/HTML/?uri=CELEX:32019R1241&amp;rid=53',\n",
       " 'http://eur-lex.europa.eu/legal-content/EN/TXT/HTML/?uri=CELEX:32019R1239&amp;rid=54',\n",
       " 'http://eur-lex.europa.eu/legal-content/EN/TXT/HTML/?uri=CELEX:32019R1242&amp;rid=55',\n",
       " 'http://eur-lex.europa.eu/legal-content/EN/TXT/HTML/?uri=CELEX:32019R1238&amp;rid=56',\n",
       " 'http://eur-lex.europa.eu/legal-content/EN/TXT/HTML/?uri=CELEX:32019R1240&amp;rid=57',\n",
       " 'http://eur-lex.europa.eu/legal-content/EN/TXT/HTML/?uri=CELEX:32019R1157&amp;rid=58',\n",
       " 'http://eur-lex.europa.eu/legal-content/EN/TXT/HTML/?uri=CELEX:32019R1156&amp;rid=59',\n",
       " 'http://eur-lex.europa.eu/legal-content/EN/TXT/HTML/?uri=CELEX:32019R1154&amp;rid=60',\n",
       " 'http://eur-lex.europa.eu/legal-content/EN/TXT/HTML/?uri=CELEX:32019R1148&amp;rid=61',\n",
       " 'http://eur-lex.europa.eu/legal-content/EN/TXT/HTML/?uri=CELEX:32019R1149&amp;rid=62',\n",
       " 'http://eur-lex.europa.eu/legal-content/EN/TXT/HTML/?uri=CELEX:32019R1150&amp;rid=63',\n",
       " 'http://eur-lex.europa.eu/legal-content/EN/TXT/HTML/?uri=CELEX:32019R1022&amp;rid=64',\n",
       " 'http://eur-lex.europa.eu/legal-content/EN/TXT/HTML/?uri=CELEX:32019R1020&amp;rid=65',\n",
       " 'http://eur-lex.europa.eu/legal-content/EN/TXT/HTML/?uri=CELEX:32019R1021&amp;rid=66',\n",
       " 'http://eur-lex.europa.eu/legal-content/EN/TXT/HTML/?uri=CELEX:32019R1010&amp;rid=67',\n",
       " 'http://eur-lex.europa.eu/legal-content/EN/TXT/HTML/?uri=CELEX:32019R1009&amp;rid=68',\n",
       " 'http://eur-lex.europa.eu/legal-content/EN/TXT/HTML/?uri=CELEX:32019R0941&amp;rid=69',\n",
       " 'http://eur-lex.europa.eu/legal-content/EN/TXT/HTML/?uri=CELEX:32019R0942&amp;rid=70',\n",
       " 'http://eur-lex.europa.eu/legal-content/EN/TXT/HTML/?uri=CELEX:32019R0943&amp;rid=71',\n",
       " 'http://eur-lex.europa.eu/legal-content/EN/TXT/HTML/?uri=CELEX:32019R0881&amp;rid=72',\n",
       " 'http://eur-lex.europa.eu/legal-content/EN/TXT/HTML/?uri=CELEX:32019R0880&amp;rid=73',\n",
       " 'http://eur-lex.europa.eu/legal-content/EN/TXT/HTML/?uri=CELEX:32019R0833&amp;rid=74',\n",
       " 'http://eur-lex.europa.eu/legal-content/EN/TXT/HTML/?uri=CELEX:32019R0817&amp;rid=75',\n",
       " 'http://eur-lex.europa.eu/legal-content/EN/TXT/HTML/?uri=CELEX:32019R0818&amp;rid=76',\n",
       " 'http://eur-lex.europa.eu/legal-content/EN/TXT/HTML/?uri=CELEX:32019R0816&amp;rid=77',\n",
       " 'http://eur-lex.europa.eu/legal-content/EN/TXT/HTML/?uri=CELEX:32019R0788&amp;rid=78',\n",
       " 'http://eur-lex.europa.eu/legal-content/EN/TXT/HTML/?uri=CELEX:32019R0787&amp;rid=79',\n",
       " 'http://eur-lex.europa.eu/legal-content/EN/TXT/HTML/?uri=CELEX:32019R0712&amp;rid=80',\n",
       " 'http://eur-lex.europa.eu/legal-content/EN/TXT/HTML/?uri=CELEX:32019R0631&amp;rid=81',\n",
       " 'http://eur-lex.europa.eu/legal-content/EN/TXT/HTML/?uri=CELEX:32019R0515&amp;rid=82',\n",
       " 'http://eur-lex.europa.eu/legal-content/EN/TXT/HTML/?uri=CELEX:32019R0516&amp;rid=83',\n",
       " 'http://eur-lex.europa.eu/legal-content/EN/TXT/HTML/?uri=CELEX:32019R0517&amp;rid=84',\n",
       " 'http://eur-lex.europa.eu/legal-content/EN/TXT/HTML/?uri=CELEX:32019R0502&amp;rid=85',\n",
       " 'http://eur-lex.europa.eu/legal-content/EN/TXT/HTML/?uri=CELEX:32019R0494&amp;rid=86',\n",
       " 'http://eur-lex.europa.eu/legal-content/EN/TXT/HTML/?uri=CELEX:32019R0491&amp;rid=87',\n",
       " 'http://eur-lex.europa.eu/legal-content/EN/TXT/HTML/?uri=CELEX:32019R0503&amp;rid=88',\n",
       " 'http://eur-lex.europa.eu/legal-content/EN/TXT/HTML/?uri=CELEX:32019R0500&amp;rid=89',\n",
       " 'http://eur-lex.europa.eu/legal-content/EN/TXT/HTML/?uri=CELEX:32019R0499&amp;rid=90']"
      ]
     },
     "execution_count": 3,
     "metadata": {},
     "output_type": "execute_result"
    }
   ],
   "source": [
    "url_list"
   ]
  },
  {
   "cell_type": "markdown",
   "metadata": {},
   "source": [
    "### List of urls"
   ]
  },
  {
   "cell_type": "code",
   "execution_count": 5,
   "metadata": {},
   "outputs": [],
   "source": [
    "urls = ['https://eur-lex.europa.eu/legal-content/EN/TXT/HTML/?uri=CELEX:32014L0065&from=EN', \n",
    "        'https://eur-lex.europa.eu/legal-content/EN/TXT/HTML/?uri=CELEX:32014R0596&from=EN',\n",
    "       'https://eur-lex.europa.eu/legal-content/EN/TXT/HTML/?uri=CELEX:32017R0590&from=EN',\n",
    "       'https://eur-lex.europa.eu/legal-content/EN/TXT/HTML/?uri=CELEX:32014R0600&from=EN',\n",
    "       'https://eur-lex.europa.eu/legal-content/EN/TXT/HTML/?uri=CELEX:32014L0059&from=EN',\n",
    "       'https://eur-lex.europa.eu/legal-content/EN/TXT/HTML/?uri=CELEX:32016R1712&from=EN',\n",
    "       'https://eur-lex.europa.eu/legal-content/EN/TXT/HTML/?uri=CELEX:32012R0648&from=EN',\n",
    "       'https://eur-lex.europa.eu/legal-content/EN/TXT/HTML/?uri=CELEX:32012R0648&from=EN',\n",
    "       'https://eur-lex.europa.eu/legal-content/EN/TXT/HTML/?uri=CELEX:32015R2365&from=EN']\n"
   ]
  },
  {
   "cell_type": "markdown",
   "metadata": {},
   "source": [
    "Creating soup objects"
   ]
  },
  {
   "cell_type": "code",
   "execution_count": 6,
   "metadata": {},
   "outputs": [],
   "source": [
    "all_=[]\n",
    "\n",
    "for i in urls: \n",
    "    bs = BeautifulSoup(requests.get(i).text, 'html.parser')   \n",
    "    all_.append(bs)"
   ]
  },
  {
   "cell_type": "markdown",
   "metadata": {},
   "source": [
    "### Functions used for scraping"
   ]
  },
  {
   "cell_type": "markdown",
   "metadata": {},
   "source": [
    "Extracting a regulation publish date"
   ]
  },
  {
   "cell_type": "code",
   "execution_count": 7,
   "metadata": {},
   "outputs": [],
   "source": [
    "def get_publish_date(bs_obj):\n",
    "    '''\n",
    "    Gets publsh date of a given directive\n",
    "    :param bs_obj:\n",
    "    :return:\n",
    "    '''\n",
    "    return bs_obj.find('p', {'class': 'hd-date'}).get_text().strip()\n"
   ]
  },
  {
   "cell_type": "markdown",
   "metadata": {},
   "source": [
    "Extracting a regulation title"
   ]
  },
  {
   "cell_type": "code",
   "execution_count": 8,
   "metadata": {},
   "outputs": [],
   "source": [
    "def get_title(bs_obj):\n",
    "    '''\n",
    "    gets given directive's title\n",
    "    :param bs_obj:\n",
    "    :return:\n",
    "    '''\n",
    "    title = []\n",
    "    title.append(bs_obj.find('p', {'class': 'doc-ti'}).get_text().strip())\n",
    "    for line in bs_obj.findAll('p', {'class': ['doc-ti']}):\n",
    "        if 'id' not in line.attrs:\n",
    "            title.append(line.get_text().strip())\n",
    "    return ' '.join(title)\n",
    "\n"
   ]
  },
  {
   "cell_type": "markdown",
   "metadata": {},
   "source": [
    "Identifying articles tag"
   ]
  },
  {
   "cell_type": "code",
   "execution_count": 9,
   "metadata": {},
   "outputs": [],
   "source": [
    "def get_articles(bs_obj):\n",
    "    '''\n",
    "    gets list of all articles\n",
    "    :param bs_obj:\n",
    "    :return:\n",
    "    '''\n",
    "    return bs.findAll('p', {'class': 'sti-art'})"
   ]
  },
  {
   "cell_type": "markdown",
   "metadata": {},
   "source": [
    "Assigning text to articles"
   ]
  },
  {
   "cell_type": "code",
   "execution_count": 10,
   "metadata": {},
   "outputs": [],
   "source": [
    "def assign_text_to_articles(articles: list):\n",
    "    data = {}\n",
    "    for index in range(len(articles)):\n",
    "        article_text = []\n",
    "        tag = articles[index].find_next_sibling()\n",
    "        while True:\n",
    "            if tag is None:\n",
    "                break\n",
    "            if tag in articles or tag.name == 'div':\n",
    "                break\n",
    "            article_text.append(tag)\n",
    "            tag = tag.find_next_sibling()\n",
    "        data[articles[index].text.strip()] = article_text\n",
    "    return data"
   ]
  },
  {
   "cell_type": "markdown",
   "metadata": {},
   "source": [
    "Extracting subparagraphs"
   ]
  },
  {
   "cell_type": "code",
   "execution_count": 11,
   "metadata": {},
   "outputs": [],
   "source": [
    "def extract_subparagraphs(paragraph_tag):\n",
    "    return [i.get_text().strip().replace('\\xa0', ' ') for i in paragraph_tag.findAll('p', {'class': 'normal'})]"
   ]
  },
  {
   "cell_type": "markdown",
   "metadata": {},
   "source": [
    "Extracting paragraphs"
   ]
  },
  {
   "cell_type": "code",
   "execution_count": 12,
   "metadata": {},
   "outputs": [],
   "source": [
    "def extract_paragraphs(article_data: list):\n",
    "    data = {}\n",
    "    counter = 0\n",
    "    for tag in article_data:\n",
    "        if tag.name == 'p' and 'sti-art' in tag.attrs['class']:\n",
    "            data['title'] = tag.get_text().strip()\n",
    "            continue\n",
    "        if tag.name == 'p' and 'normal' in tag.attrs['class']:\n",
    "            counter += 1\n",
    "            data[counter] = []\n",
    "            data[counter].append(tag.get_text().strip().replace('\\xa0', ' '))\n",
    "            continue\n",
    "        sub_par = extract_subparagraphs(tag)\n",
    "        data[counter].append(sub_par)\n",
    "    return data"
   ]
  },
  {
   "cell_type": "markdown",
   "metadata": {},
   "source": [
    "Extracting regulation text, unstructured"
   ]
  },
  {
   "cell_type": "code",
   "execution_count": 13,
   "metadata": {},
   "outputs": [],
   "source": [
    "def get_text(bs_obj):\n",
    "    new =[]\n",
    "    print(type(bs_obj))\n",
    "    for x in bs_obj.findAll('p',  {\"class\": ['normal']}):\n",
    "        new.append(x.get_text().strip().replace('\\xa0', ' '))\n",
    "    return ' '.join(new)\n"
   ]
  },
  {
   "cell_type": "markdown",
   "metadata": {},
   "source": [
    "Extracting articles titles"
   ]
  },
  {
   "cell_type": "code",
   "execution_count": 14,
   "metadata": {},
   "outputs": [],
   "source": [
    "def get_article_title(bs_obj):\n",
    "    '''\n",
    "    gets given directive's title\n",
    "    :param bs_obj:\n",
    "    :return:\n",
    "    '''\n",
    "    article_title =[]\n",
    "    article_text = []\n",
    "    \n",
    "    for index in bs.findAll('p',  {\"class\": 'sti-art'}):\n",
    "        article_title.append(index.get_text().strip())\n",
    "    return ', '.join(article_title)\n"
   ]
  },
  {
   "cell_type": "markdown",
   "metadata": {},
   "source": [
    "### Extracting"
   ]
  },
  {
   "cell_type": "markdown",
   "metadata": {},
   "source": [
    "Extracting everything for all provided regulations"
   ]
  },
  {
   "cell_type": "code",
   "execution_count": 15,
   "metadata": {},
   "outputs": [
    {
     "name": "stdout",
     "output_type": "stream",
     "text": [
      "<class 'bs4.BeautifulSoup'>\n",
      "<class 'bs4.BeautifulSoup'>\n",
      "<class 'bs4.BeautifulSoup'>\n",
      "<class 'bs4.BeautifulSoup'>\n",
      "<class 'bs4.BeautifulSoup'>\n",
      "<class 'bs4.BeautifulSoup'>\n",
      "<class 'bs4.BeautifulSoup'>\n",
      "<class 'bs4.BeautifulSoup'>\n",
      "<class 'bs4.BeautifulSoup'>\n"
     ]
    }
   ],
   "source": [
    "titles=[]\n",
    "publ_dates=[]\n",
    "texts = []\n",
    "articles_html=[]\n",
    "articles_texts=[]\n",
    "articles_titles=[]\n",
    "topic =[]\n",
    "\n",
    "for bs in all_: \n",
    "    #Extracting all regulation titles\n",
    "    title = get_title(bs)\n",
    "    titles.append(title)\n",
    "    \n",
    "    #Extracting all regulation publish dates\n",
    "    publ_date = get_publish_date(bs)\n",
    "    publ_dates.append(publ_date)\n",
    "    \n",
    "    #Extracting all text, unstructured\n",
    "    all_text = get_text(bs)\n",
    "    texts.append(all_text)\n",
    "    \n",
    "    #Extracting all articles html\n",
    "    articles = get_articles(bs)\n",
    "    article_html = assign_text_to_articles(articles)\n",
    "    articles_html.append(article_html)\n",
    "    \n",
    "    #Extracting articles structured text - suitable eg. for database\n",
    "    result = {article: extract_paragraphs(content) for article, content in article_html.items()}\n",
    "    articles_texts.append(result)\n",
    "    \n",
    "    #Extracting article title\n",
    "    article_title = get_article_title(bs)\n",
    "    articles_titles.append(article_title)\n",
    "    "
   ]
  },
  {
   "cell_type": "markdown",
   "metadata": {},
   "source": [
    "## Summary Table"
   ]
  },
  {
   "cell_type": "markdown",
   "metadata": {},
   "source": [
    "Creating Summary table after web scraping"
   ]
  },
  {
   "cell_type": "code",
   "execution_count": 16,
   "metadata": {},
   "outputs": [
    {
     "data": {
      "text/html": [
       "<div>\n",
       "<style scoped>\n",
       "    .dataframe tbody tr th:only-of-type {\n",
       "        vertical-align: middle;\n",
       "    }\n",
       "\n",
       "    .dataframe tbody tr th {\n",
       "        vertical-align: top;\n",
       "    }\n",
       "\n",
       "    .dataframe thead th {\n",
       "        text-align: right;\n",
       "    }\n",
       "</style>\n",
       "<table border=\"1\" class=\"dataframe\">\n",
       "  <thead>\n",
       "    <tr style=\"text-align: right;\">\n",
       "      <th></th>\n",
       "      <th></th>\n",
       "      <th></th>\n",
       "      <th>Articles titles</th>\n",
       "      <th>All text</th>\n",
       "    </tr>\n",
       "    <tr>\n",
       "      <th></th>\n",
       "      <th>Title</th>\n",
       "      <th>Publish Date</th>\n",
       "      <th></th>\n",
       "      <th></th>\n",
       "    </tr>\n",
       "  </thead>\n",
       "  <tbody>\n",
       "    <tr>\n",
       "      <th>0</th>\n",
       "      <th>DIRECTIVE 2014/65/EU OF THE EUROPEAN PARLIAMENT AND OF THE COUNCIL of 15 May 2014 on markets in financial instruments and amending Directive 2002/92/EC and Directive 2011/61/EU (recast) (Text with EEA relevance)</th>\n",
       "      <th>12.6.2014</th>\n",
       "      <td>Scope, Exemptions, Optional exemptions, Definitions, Requirement for authorisation, Scope of authorisation, Procedures for granting and refusing requests for authorisation, Withdrawal of authorisations, Management body, Shareholders and members with qualifying holdings, Notification of proposed ...</td>\n",
       "      <td>THE EUROPEAN PARLIAMENT AND THE COUNCIL OF THE EUROPEAN UNION, Having regard to the Treaty on the Functioning of the European Union, and in particular Article 53(1) thereof, Having regard to the proposal from the European Commission, After transmission of the draft legislative act to the nationa...</td>\n",
       "    </tr>\n",
       "    <tr>\n",
       "      <th>1</th>\n",
       "      <th>REGULATION (EU) No 596/2014 OF THE EUROPEAN PARLIAMENT AND OF THE COUNCIL of 16 April 2014 on market abuse (market abuse regulation) and repealing Directive 2003/6/EC of the European Parliament and of the Council and Commission Directives 2003/124/EC, 2003/125/EC and 2004/72/EC (Text with EEA relevance)</th>\n",
       "      <th>12.6.2014</th>\n",
       "      <td>Subject matter, Scope, Definitions, Notifications and list of financial instruments, Exemption for buy-back programmes and stabilisation, Exemption for monetary and public debt management activities and climate policy activities, Inside information, Insider dealing, Legitimate behaviour, Unlawfu...</td>\n",
       "      <td>THE EUROPEAN PARLIAMENT AND THE COUNCIL OF THE EUROPEAN UNION, Having regard to the Treaty on the Functioning of the European Union, and in particular Article 114 thereof, Having regard to the proposal from the European Commission, After transmission of the draft legislative act to the national ...</td>\n",
       "    </tr>\n",
       "    <tr>\n",
       "      <th>2</th>\n",
       "      <th>COMMISSION DELEGATED REGULATION (EU) 2017/590 of 28 July 2016 supplementing Regulation (EU) No 600/2014 of the European Parliament and of the Council with regard to regulatory technical standards for the reporting of transactions to competent authorities (Text with EEA relevance)</th>\n",
       "      <th>31.3.2017</th>\n",
       "      <td>Data standards and formats for transaction reporting, Meaning of transaction, Meaning of execution of a transaction, Transmission of an order, Identification of the investment firm executing a transaction, Designation to identify natural persons, Details of the identity of the client and identif...</td>\n",
       "      <td>THE EUROPEAN COMMISSION, Having regard to the Treaty on the Functioning of the European Union, Having regard to Regulation (EU) No 600/2014 of the European Parliament and of the Council of 15 May 2014 on markets in financial instruments and amending Regulation (EU) No 648/2012 (1), and in partic...</td>\n",
       "    </tr>\n",
       "    <tr>\n",
       "      <th>3</th>\n",
       "      <th>REGULATION (EU) No 600/2014 OF THE EUROPEAN PARLIAMENT AND OF THE COUNCIL of 15 May 2014 on markets in financial instruments and amending Regulation (EU) No 648/2012 (Text with EEA relevance)</th>\n",
       "      <th>12.6.2014</th>\n",
       "      <td>Subject matter and scope, Definitions, Pre-trade transparency requirements for trading venues in respect of shares, depositary receipts, ETFs, certificates and other similar financial instruments, Waivers for equity instruments, Volume Cap Mechanism, Post-trade transparency requirements for trad...</td>\n",
       "      <td>THE EUROPEAN PARLIAMENT AND THE COUNCIL OF THE EUROPEAN UNION, Having regard to the Treaty on the Functioning of the European Union, and in particular Article 114 thereof, Having regard to the proposal from the European Commission, After transmission of the draft legislative act to the national ...</td>\n",
       "    </tr>\n",
       "    <tr>\n",
       "      <th>4</th>\n",
       "      <th>DIRECTIVE 2014/59/EU OF THE EUROPEAN PARLIAMENT AND OF THE COUNCIL of 15 May 2014 establishing a framework for the recovery and resolution of credit institutions and investment firms and amending Council Directive 82/891/EEC, and Directives 2001/24/EC, 2002/47/EC, 2004/25/EC, 2005/56/EC, 2007/36/EC, 2011/35/EU, 2012/30/EU and 2013/36/EU, and Regulations (EU) No 1093/2010 and (EU) No 648/2012, of the European Parliament and of the Council (Text with EEA relevance)</th>\n",
       "      <th>12.6.2014</th>\n",
       "      <td>Subject matter and scope, Definitions, Designation of authorities responsible for resolution, Simplified obligations for certain institutions, Recovery plans, Assessment of recovery plans, Group recovery plans, Assessment of group recovery plans, Recovery Plan Indicators, Resolution plans, Infor...</td>\n",
       "      <td>THE EUROPEAN PARLIAMENT AND THE COUNCIL OF THE EUROPEAN UNION, Having regard to the Treaty on the Functioning of the European Union, and in particular Article 114 thereof, Having regard to the proposal from the European Commission, After transmission of the draft legislative act to the national ...</td>\n",
       "    </tr>\n",
       "    <tr>\n",
       "      <th>5</th>\n",
       "      <th>COMMISSION DELEGATED REGULATION (EU) 2016/1712 of 7 June 2016 supplementing Directive 2014/59/EU of the European Parliament and of the Council establishing a framework for the recovery and resolution of credit institutions and investment firms with regard to regulatory technical standards specifying a minimum set of the information on financial contracts that should be contained in the detailed records and the circumstances in which the requirement should be imposed (Text with EEA relevance)</th>\n",
       "      <th>24.9.2016</th>\n",
       "      <td>Requirement to maintain detailed records of financial contracts, Minimum set of information on financial contracts to be kept in the detailed records</td>\n",
       "      <td>THE EUROPEAN COMMISSION, Having regard to the Treaty on the Functioning of the European Union, Having regard to Directive 2014/59/EU of the European Parliament and of the Council of 15 May 2014 establishing a framework for the recovery and resolution of credit institutions and investment firms a...</td>\n",
       "    </tr>\n",
       "    <tr>\n",
       "      <th>6</th>\n",
       "      <th>REGULATION (EU) No 648/2012 OF THE EUROPEAN PARLIAMENT AND OF THE COUNCIL of 4 July 2012 on OTC derivatives, central counterparties and trade repositories (Text with EEA relevance)</th>\n",
       "      <th>27.7.2012</th>\n",
       "      <td>Subject matter and scope, Definitions, Intragroup transactions, Clearing obligation, Clearing obligation procedure, Public register, Access to a CCP, Access to a trading venue, Reporting obligation, Non-financial counterparties, Risk-mitigation techniques for OTC derivative contracts not cleared...</td>\n",
       "      <td>THE EUROPEAN PARLIAMENT AND THE COUNCIL OF THE EUROPEAN UNION, Having regard to the Treaty on the Functioning of the European Union, and in particular Article 114 thereof, Having regard to the proposal from the European Commission, After transmission of the draft legislative act to the national ...</td>\n",
       "    </tr>\n",
       "    <tr>\n",
       "      <th>7</th>\n",
       "      <th>REGULATION (EU) No 648/2012 OF THE EUROPEAN PARLIAMENT AND OF THE COUNCIL of 4 July 2012 on OTC derivatives, central counterparties and trade repositories (Text with EEA relevance)</th>\n",
       "      <th>27.7.2012</th>\n",
       "      <td>Subject matter and scope, Definitions, Intragroup transactions, Clearing obligation, Clearing obligation procedure, Public register, Access to a CCP, Access to a trading venue, Reporting obligation, Non-financial counterparties, Risk-mitigation techniques for OTC derivative contracts not cleared...</td>\n",
       "      <td>THE EUROPEAN PARLIAMENT AND THE COUNCIL OF THE EUROPEAN UNION, Having regard to the Treaty on the Functioning of the European Union, and in particular Article 114 thereof, Having regard to the proposal from the European Commission, After transmission of the draft legislative act to the national ...</td>\n",
       "    </tr>\n",
       "    <tr>\n",
       "      <th>8</th>\n",
       "      <th>REGULATION (EU) 2015/2365 OF THE EUROPEAN PARLIAMENT AND OF THE COUNCIL of 25 November 2015 on transparency of securities financing transactions and of reuse and amending Regulation (EU) No 648/2012 (Text with EEA relevance)</th>\n",
       "      <th>23.12.2015</th>\n",
       "      <td>Subject matter, Scope, Definitions, Reporting obligation and safeguarding in respect of SFTs, Registration of a trade repository, Notification of and consultation with competent authorities prior to registration or extension of registration, Examination of the application, Notification of ESMA d...</td>\n",
       "      <td>THE EUROPEAN PARLIAMENT AND THE COUNCIL OF THE EUROPEAN UNION, Having regard to the Treaty on the Functioning of the European Union, and in particular Article 114 thereof, Having regard to the proposal from the European Commission, After transmission of the draft legislative act to the national ...</td>\n",
       "    </tr>\n",
       "  </tbody>\n",
       "</table>\n",
       "</div>"
      ],
      "text/plain": [
       "                                                                                                                                                                                                                                                                                                                                                                                                                                                                                                                                                                                                                         Articles titles  \\\n",
       "  Title                                                                                                                                                                                                                                                                                                        Publish Date                                                                                                                                                                                                                                                                                                                \n",
       "0 DIRECTIVE 2014/65/EU OF THE EUROPEAN PARLIAMENT AND OF THE COUNCIL of 15 May 2014 on markets in financial instruments and amending Directive 2002/92/EC and Directive 2011/61/EU (recast) (Text with EEA relevance)                                                                                          12.6.2014     Scope, Exemptions, Optional exemptions, Definitions, Requirement for authorisation, Scope of authorisation, Procedures for granting and refusing requests for authorisation, Withdrawal of authorisations, Management body, Shareholders and members with qualifying holdings, Notification of proposed ...   \n",
       "1 REGULATION (EU) No 596/2014 OF THE EUROPEAN PARLIAMENT AND OF THE COUNCIL of 16 April 2014 on market abuse (market abuse regulation) and repealing Directive 2003/6/EC of the European Parliament and of the Council and Commission Directives 2003/124/EC, 2003/125/EC and 2004/72/EC (Text with EEA rel... 12.6.2014     Subject matter, Scope, Definitions, Notifications and list of financial instruments, Exemption for buy-back programmes and stabilisation, Exemption for monetary and public debt management activities and climate policy activities, Inside information, Insider dealing, Legitimate behaviour, Unlawfu...   \n",
       "2 COMMISSION DELEGATED REGULATION (EU) 2017/590 of 28 July 2016 supplementing Regulation (EU) No 600/2014 of the European Parliament and of the Council with regard to regulatory technical standards for the reporting of transactions to competent authorities (Text with EEA relevance)                     31.3.2017     Data standards and formats for transaction reporting, Meaning of transaction, Meaning of execution of a transaction, Transmission of an order, Identification of the investment firm executing a transaction, Designation to identify natural persons, Details of the identity of the client and identif...   \n",
       "3 REGULATION (EU) No 600/2014 OF THE EUROPEAN PARLIAMENT AND OF THE COUNCIL of 15 May 2014 on markets in financial instruments and amending Regulation (EU) No 648/2012 (Text with EEA relevance)                                                                                                              12.6.2014     Subject matter and scope, Definitions, Pre-trade transparency requirements for trading venues in respect of shares, depositary receipts, ETFs, certificates and other similar financial instruments, Waivers for equity instruments, Volume Cap Mechanism, Post-trade transparency requirements for trad...   \n",
       "4 DIRECTIVE 2014/59/EU OF THE EUROPEAN PARLIAMENT AND OF THE COUNCIL of 15 May 2014 establishing a framework for the recovery and resolution of credit institutions and investment firms and amending Council Directive 82/891/EEC, and Directives 2001/24/EC, 2002/47/EC, 2004/25/EC, 2005/56/EC, 2007/36/... 12.6.2014     Subject matter and scope, Definitions, Designation of authorities responsible for resolution, Simplified obligations for certain institutions, Recovery plans, Assessment of recovery plans, Group recovery plans, Assessment of group recovery plans, Recovery Plan Indicators, Resolution plans, Infor...   \n",
       "5 COMMISSION DELEGATED REGULATION (EU) 2016/1712 of 7 June 2016 supplementing Directive 2014/59/EU of the European Parliament and of the Council establishing a framework for the recovery and resolution of credit institutions and investment firms with regard to regulatory technical standards specify... 24.9.2016                                                                                                                                                           Requirement to maintain detailed records of financial contracts, Minimum set of information on financial contracts to be kept in the detailed records   \n",
       "6 REGULATION (EU) No 648/2012 OF THE EUROPEAN PARLIAMENT AND OF THE COUNCIL of 4 July 2012 on OTC derivatives, central counterparties and trade repositories (Text with EEA relevance)                                                                                                                         27.7.2012     Subject matter and scope, Definitions, Intragroup transactions, Clearing obligation, Clearing obligation procedure, Public register, Access to a CCP, Access to a trading venue, Reporting obligation, Non-financial counterparties, Risk-mitigation techniques for OTC derivative contracts not cleared...   \n",
       "7 REGULATION (EU) No 648/2012 OF THE EUROPEAN PARLIAMENT AND OF THE COUNCIL of 4 July 2012 on OTC derivatives, central counterparties and trade repositories (Text with EEA relevance)                                                                                                                         27.7.2012     Subject matter and scope, Definitions, Intragroup transactions, Clearing obligation, Clearing obligation procedure, Public register, Access to a CCP, Access to a trading venue, Reporting obligation, Non-financial counterparties, Risk-mitigation techniques for OTC derivative contracts not cleared...   \n",
       "8 REGULATION (EU) 2015/2365 OF THE EUROPEAN PARLIAMENT AND OF THE COUNCIL of 25 November 2015 on transparency of securities financing transactions and of reuse and amending Regulation (EU) No 648/2012 (Text with EEA relevance)                                                                             23.12.2015    Subject matter, Scope, Definitions, Reporting obligation and safeguarding in respect of SFTs, Registration of a trade repository, Notification of and consultation with competent authorities prior to registration or extension of registration, Examination of the application, Notification of ESMA d...   \n",
       "\n",
       "                                                                                                                                                                                                                                                                                                                                                                                                                                                                                                                                                                                                                                All text  \n",
       "  Title                                                                                                                                                                                                                                                                                                        Publish Date                                                                                                                                                                                                                                                                                                               \n",
       "0 DIRECTIVE 2014/65/EU OF THE EUROPEAN PARLIAMENT AND OF THE COUNCIL of 15 May 2014 on markets in financial instruments and amending Directive 2002/92/EC and Directive 2011/61/EU (recast) (Text with EEA relevance)                                                                                          12.6.2014     THE EUROPEAN PARLIAMENT AND THE COUNCIL OF THE EUROPEAN UNION, Having regard to the Treaty on the Functioning of the European Union, and in particular Article 53(1) thereof, Having regard to the proposal from the European Commission, After transmission of the draft legislative act to the nationa...  \n",
       "1 REGULATION (EU) No 596/2014 OF THE EUROPEAN PARLIAMENT AND OF THE COUNCIL of 16 April 2014 on market abuse (market abuse regulation) and repealing Directive 2003/6/EC of the European Parliament and of the Council and Commission Directives 2003/124/EC, 2003/125/EC and 2004/72/EC (Text with EEA rel... 12.6.2014     THE EUROPEAN PARLIAMENT AND THE COUNCIL OF THE EUROPEAN UNION, Having regard to the Treaty on the Functioning of the European Union, and in particular Article 114 thereof, Having regard to the proposal from the European Commission, After transmission of the draft legislative act to the national ...  \n",
       "2 COMMISSION DELEGATED REGULATION (EU) 2017/590 of 28 July 2016 supplementing Regulation (EU) No 600/2014 of the European Parliament and of the Council with regard to regulatory technical standards for the reporting of transactions to competent authorities (Text with EEA relevance)                     31.3.2017     THE EUROPEAN COMMISSION, Having regard to the Treaty on the Functioning of the European Union, Having regard to Regulation (EU) No 600/2014 of the European Parliament and of the Council of 15 May 2014 on markets in financial instruments and amending Regulation (EU) No 648/2012 (1), and in partic...  \n",
       "3 REGULATION (EU) No 600/2014 OF THE EUROPEAN PARLIAMENT AND OF THE COUNCIL of 15 May 2014 on markets in financial instruments and amending Regulation (EU) No 648/2012 (Text with EEA relevance)                                                                                                              12.6.2014     THE EUROPEAN PARLIAMENT AND THE COUNCIL OF THE EUROPEAN UNION, Having regard to the Treaty on the Functioning of the European Union, and in particular Article 114 thereof, Having regard to the proposal from the European Commission, After transmission of the draft legislative act to the national ...  \n",
       "4 DIRECTIVE 2014/59/EU OF THE EUROPEAN PARLIAMENT AND OF THE COUNCIL of 15 May 2014 establishing a framework for the recovery and resolution of credit institutions and investment firms and amending Council Directive 82/891/EEC, and Directives 2001/24/EC, 2002/47/EC, 2004/25/EC, 2005/56/EC, 2007/36/... 12.6.2014     THE EUROPEAN PARLIAMENT AND THE COUNCIL OF THE EUROPEAN UNION, Having regard to the Treaty on the Functioning of the European Union, and in particular Article 114 thereof, Having regard to the proposal from the European Commission, After transmission of the draft legislative act to the national ...  \n",
       "5 COMMISSION DELEGATED REGULATION (EU) 2016/1712 of 7 June 2016 supplementing Directive 2014/59/EU of the European Parliament and of the Council establishing a framework for the recovery and resolution of credit institutions and investment firms with regard to regulatory technical standards specify... 24.9.2016     THE EUROPEAN COMMISSION, Having regard to the Treaty on the Functioning of the European Union, Having regard to Directive 2014/59/EU of the European Parliament and of the Council of 15 May 2014 establishing a framework for the recovery and resolution of credit institutions and investment firms a...  \n",
       "6 REGULATION (EU) No 648/2012 OF THE EUROPEAN PARLIAMENT AND OF THE COUNCIL of 4 July 2012 on OTC derivatives, central counterparties and trade repositories (Text with EEA relevance)                                                                                                                         27.7.2012     THE EUROPEAN PARLIAMENT AND THE COUNCIL OF THE EUROPEAN UNION, Having regard to the Treaty on the Functioning of the European Union, and in particular Article 114 thereof, Having regard to the proposal from the European Commission, After transmission of the draft legislative act to the national ...  \n",
       "7 REGULATION (EU) No 648/2012 OF THE EUROPEAN PARLIAMENT AND OF THE COUNCIL of 4 July 2012 on OTC derivatives, central counterparties and trade repositories (Text with EEA relevance)                                                                                                                         27.7.2012     THE EUROPEAN PARLIAMENT AND THE COUNCIL OF THE EUROPEAN UNION, Having regard to the Treaty on the Functioning of the European Union, and in particular Article 114 thereof, Having regard to the proposal from the European Commission, After transmission of the draft legislative act to the national ...  \n",
       "8 REGULATION (EU) 2015/2365 OF THE EUROPEAN PARLIAMENT AND OF THE COUNCIL of 25 November 2015 on transparency of securities financing transactions and of reuse and amending Regulation (EU) No 648/2012 (Text with EEA relevance)                                                                             23.12.2015    THE EUROPEAN PARLIAMENT AND THE COUNCIL OF THE EUROPEAN UNION, Having regard to the Treaty on the Functioning of the European Union, and in particular Article 114 thereof, Having regard to the proposal from the European Commission, After transmission of the draft legislative act to the national ...  "
      ]
     },
     "execution_count": 16,
     "metadata": {},
     "output_type": "execute_result"
    }
   ],
   "source": [
    "d = {'Title':titles,'Publish Date':publ_dates, 'Articles titles': articles_titles, 'All text':texts}\n",
    "df_summary = pd.DataFrame(d)\n",
    "pd.set_option('display.max_colwidth', 300)\n",
    "df_summary = df_summary.set_index('Title',append=True)\n",
    "df_summary = df_summary.set_index('Publish Date',append=True)\n",
    "df_summary"
   ]
  },
  {
   "cell_type": "markdown",
   "metadata": {},
   "source": [
    "Print articles_html or articles_texts to see the structure"
   ]
  },
  {
   "cell_type": "code",
   "execution_count": 17,
   "metadata": {},
   "outputs": [],
   "source": [
    "# print(articles_html)\n",
    "# print(articles_texts)"
   ]
  },
  {
   "cell_type": "markdown",
   "metadata": {},
   "source": [
    "## Text analysis"
   ]
  },
  {
   "cell_type": "markdown",
   "metadata": {},
   "source": [
    "Extracting key phrases"
   ]
  },
  {
   "cell_type": "code",
   "execution_count": 18,
   "metadata": {},
   "outputs": [],
   "source": [
    "texts = ''.join(texts)"
   ]
  },
  {
   "cell_type": "code",
   "execution_count": 19,
   "metadata": {},
   "outputs": [],
   "source": [
    "#texts"
   ]
  },
  {
   "cell_type": "code",
   "execution_count": 20,
   "metadata": {},
   "outputs": [],
   "source": [
    "text_analysis = re.compile(r\"(article|articles|european|union|parliament|information|market|paragraph|inside|order|annex|v.part|member|competent|accordance|regulary|directive|)\")\n",
    "text = texts.lower()\n",
    "final_text = re.sub(text_analysis, '',text)"
   ]
  },
  {
   "cell_type": "code",
   "execution_count": 21,
   "metadata": {},
   "outputs": [
    {
     "name": "stdout",
     "output_type": "stream",
     "text": [
      "financial instruments\n",
      "resolution authorities\n",
      "resolution authority\n",
      "regulatory technical standards\n",
      "investment firm\n",
      "technical standards referred\n",
      "resolution\n",
      "financial\n",
      "authorities\n",
      "authority\n",
      "referred\n",
      "regulation\n",
      "esma\n",
      "technical standards\n",
      "investment\n",
      "states\n",
      "draft regulatory technical\n",
      "institution\n",
      "trading\n",
      "state\n",
      "regulatory technical\n",
      "trading venue\n",
      "ccp\n",
      "instruments\n",
      "standards referred\n",
      "ensure\n",
      "commission\n",
      "firm\n",
      "group-level resolution authority\n",
      "investment services\n"
     ]
    }
   ],
   "source": [
    "kw_extractor = yake.KeywordExtractor()\n",
    "keywords = kw_extractor.extract_keywords(final_text)\n",
    "\n",
    "language = \"en\"\n",
    "max_ngram_size = 3\n",
    "deduplication_thresold = 0.9\n",
    "deduplication_algo = 'seqm'\n",
    "windowSize = 1\n",
    "numOfKeywords = 30\n",
    "\n",
    "custom_kw_extractor = yake.KeywordExtractor(lan=language, n = max_ngram_size, dedupLim=deduplication_thresold, dedupFunc=deduplication_algo, windowsSize=windowSize, top=numOfKeywords, features=None)\n",
    "keywords = custom_kw_extractor.extract_keywords(final_text)\n",
    "\n",
    "for kw in keywords:\n",
    "    list_kw = kw[0]\n",
    "    print(list_kw)"
   ]
  },
  {
   "cell_type": "markdown",
   "metadata": {},
   "source": [
    "Creating a graphics of most important words"
   ]
  },
  {
   "cell_type": "code",
   "execution_count": 22,
   "metadata": {},
   "outputs": [
    {
     "data": {
      "image/png": "[encoded data removed]",
      "text/plain": [
       "<Figure size 432x288 with 1 Axes>"
      ]
     },
     "metadata": {
      "needs_background": "light"
     },
     "output_type": "display_data"
    }
   ],
   "source": [
    "# Libraries\n",
    "from wordcloud import WordCloud\n",
    "import matplotlib.pyplot as plt\n",
    "\n",
    "# Create a list of word\n",
    "text=(final_text)\n",
    "\n",
    "# Create the wordcloud object\n",
    "wordcloud = WordCloud(width=900, height=600, max_words=70, colormap=\"Blues\").generate(text)\n",
    "\n",
    "# Display the generated image:\n",
    "plt.imshow(wordcloud, interpolation=\"bilinear\")\n",
    "plt.axis(\"off\")\n",
    "plt.margins(x=0, y=0)\n",
    "plt.show()"
   ]
  },
  {
   "cell_type": "markdown",
   "metadata": {},
   "source": [
    "## Definitions"
   ]
  },
  {
   "cell_type": "markdown",
   "metadata": {},
   "source": [
    "#### Creating table of definitions"
   ]
  },
  {
   "cell_type": "markdown",
   "metadata": {},
   "source": [
    "Creating a data frame from articles_html to extract Definitions, joining lists"
   ]
  },
  {
   "cell_type": "code",
   "execution_count": 23,
   "metadata": {},
   "outputs": [],
   "source": [
    "df_html = pd.DataFrame(articles_html)"
   ]
  },
  {
   "cell_type": "code",
   "execution_count": 24,
   "metadata": {},
   "outputs": [],
   "source": [
    "definit_html = df_html['Definitions'].dropna()"
   ]
  },
  {
   "cell_type": "code",
   "execution_count": 25,
   "metadata": {},
   "outputs": [],
   "source": [
    "definit_html = definit_html.tolist()"
   ]
  },
  {
   "cell_type": "code",
   "execution_count": 26,
   "metadata": {},
   "outputs": [],
   "source": [
    "for elem in definit_html:\n",
    "    del elem[0]      "
   ]
  },
  {
   "cell_type": "code",
   "execution_count": 27,
   "metadata": {},
   "outputs": [],
   "source": [
    "definit_html = sum(definit_html, [])"
   ]
  },
  {
   "cell_type": "markdown",
   "metadata": {},
   "source": [
    "Extracting text using get_text funcion shown earlier"
   ]
  },
  {
   "cell_type": "code",
   "execution_count": 28,
   "metadata": {
    "tags": []
   },
   "outputs": [
    {
     "name": "stdout",
     "output_type": "stream",
     "text": [
      "<class 'bs4.element.Tag'>\n",
      "<class 'bs4.element.Tag'>\n",
      "<class 'bs4.element.Tag'>\n",
      "<class 'bs4.element.Tag'>\n",
      "<class 'bs4.element.Tag'>\n",
      "<class 'bs4.element.Tag'>\n",
      "<class 'bs4.element.Tag'>\n",
      "<class 'bs4.element.Tag'>\n",
      "<class 'bs4.element.Tag'>\n",
      "<class 'bs4.element.Tag'>\n",
      "<class 'bs4.element.Tag'>\n",
      "<class 'bs4.element.Tag'>\n",
      "<class 'bs4.element.Tag'>\n",
      "<class 'bs4.element.Tag'>\n",
      "<class 'bs4.element.Tag'>\n",
      "<class 'bs4.element.Tag'>\n",
      "<class 'bs4.element.Tag'>\n",
      "<class 'bs4.element.Tag'>\n",
      "<class 'bs4.element.Tag'>\n",
      "<class 'bs4.element.Tag'>\n",
      "<class 'bs4.element.Tag'>\n",
      "<class 'bs4.element.Tag'>\n",
      "<class 'bs4.element.Tag'>\n",
      "<class 'bs4.element.Tag'>\n",
      "<class 'bs4.element.Tag'>\n",
      "<class 'bs4.element.Tag'>\n",
      "<class 'bs4.element.Tag'>\n",
      "<class 'bs4.element.Tag'>\n",
      "<class 'bs4.element.Tag'>\n",
      "<class 'bs4.element.Tag'>\n",
      "<class 'bs4.element.Tag'>\n",
      "<class 'bs4.element.Tag'>\n",
      "<class 'bs4.element.Tag'>\n",
      "<class 'bs4.element.Tag'>\n",
      "<class 'bs4.element.Tag'>\n",
      "<class 'bs4.element.Tag'>\n",
      "<class 'bs4.element.Tag'>\n",
      "<class 'bs4.element.Tag'>\n",
      "<class 'bs4.element.Tag'>\n",
      "<class 'bs4.element.Tag'>\n",
      "<class 'bs4.element.Tag'>\n",
      "<class 'bs4.element.Tag'>\n",
      "<class 'bs4.element.Tag'>\n",
      "<class 'bs4.element.Tag'>\n",
      "<class 'bs4.element.Tag'>\n",
      "<class 'bs4.element.Tag'>\n",
      "<class 'bs4.element.Tag'>\n",
      "<class 'bs4.element.Tag'>\n",
      "<class 'bs4.element.Tag'>\n",
      "<class 'bs4.element.Tag'>\n",
      "<class 'bs4.element.Tag'>\n",
      "<class 'bs4.element.Tag'>\n",
      "<class 'bs4.element.Tag'>\n",
      "<class 'bs4.element.Tag'>\n",
      "<class 'bs4.element.Tag'>\n",
      "<class 'bs4.element.Tag'>\n",
      "<class 'bs4.element.Tag'>\n",
      "<class 'bs4.element.Tag'>\n",
      "<class 'bs4.element.Tag'>\n",
      "<class 'bs4.element.Tag'>\n",
      "<class 'bs4.element.Tag'>\n",
      "<class 'bs4.element.Tag'>\n",
      "<class 'bs4.element.Tag'>\n",
      "<class 'bs4.element.Tag'>\n",
      "<class 'bs4.element.Tag'>\n",
      "<class 'bs4.element.Tag'>\n",
      "<class 'bs4.element.Tag'>\n",
      "<class 'bs4.element.Tag'>\n",
      "<class 'bs4.element.Tag'>\n",
      "<class 'bs4.element.Tag'>\n",
      "<class 'bs4.element.Tag'>\n",
      "<class 'bs4.element.Tag'>\n",
      "<class 'bs4.element.Tag'>\n",
      "<class 'bs4.element.Tag'>\n",
      "<class 'bs4.element.Tag'>\n",
      "<class 'bs4.element.Tag'>\n",
      "<class 'bs4.element.Tag'>\n",
      "<class 'bs4.element.Tag'>\n",
      "<class 'bs4.element.Tag'>\n",
      "<class 'bs4.element.Tag'>\n",
      "<class 'bs4.element.Tag'>\n",
      "<class 'bs4.element.Tag'>\n",
      "<class 'bs4.element.Tag'>\n",
      "<class 'bs4.element.Tag'>\n",
      "<class 'bs4.element.Tag'>\n",
      "<class 'bs4.element.Tag'>\n",
      "<class 'bs4.element.Tag'>\n",
      "<class 'bs4.element.Tag'>\n",
      "<class 'bs4.element.Tag'>\n",
      "<class 'bs4.element.Tag'>\n",
      "<class 'bs4.element.Tag'>\n",
      "<class 'bs4.element.Tag'>\n",
      "<class 'bs4.element.Tag'>\n",
      "<class 'bs4.element.Tag'>\n",
      "<class 'bs4.element.Tag'>\n",
      "<class 'bs4.element.Tag'>\n",
      "<class 'bs4.element.Tag'>\n",
      "<class 'bs4.element.Tag'>\n",
      "<class 'bs4.element.Tag'>\n",
      "<class 'bs4.element.Tag'>\n",
      "<class 'bs4.element.Tag'>\n",
      "<class 'bs4.element.Tag'>\n",
      "<class 'bs4.element.Tag'>\n",
      "<class 'bs4.element.Tag'>\n",
      "<class 'bs4.element.Tag'>\n",
      "<class 'bs4.element.Tag'>\n",
      "<class 'bs4.element.Tag'>\n",
      "<class 'bs4.element.Tag'>\n",
      "<class 'bs4.element.Tag'>\n",
      "<class 'bs4.element.Tag'>\n",
      "<class 'bs4.element.Tag'>\n",
      "<class 'bs4.element.Tag'>\n",
      "<class 'bs4.element.Tag'>\n",
      "<class 'bs4.element.Tag'>\n",
      "<class 'bs4.element.Tag'>\n",
      "<class 'bs4.element.Tag'>\n",
      "<class 'bs4.element.Tag'>\n",
      "<class 'bs4.element.Tag'>\n",
      "<class 'bs4.element.Tag'>\n",
      "<class 'bs4.element.Tag'>\n",
      "<class 'bs4.element.Tag'>\n",
      "<class 'bs4.element.Tag'>\n",
      "<class 'bs4.element.Tag'>\n",
      "<class 'bs4.element.Tag'>\n",
      "<class 'bs4.element.Tag'>\n",
      "<class 'bs4.element.Tag'>\n",
      "<class 'bs4.element.Tag'>\n",
      "<class 'bs4.element.Tag'>\n",
      "<class 'bs4.element.Tag'>\n",
      "<class 'bs4.element.Tag'>\n",
      "<class 'bs4.element.Tag'>\n",
      "<class 'bs4.element.Tag'>\n",
      "<class 'bs4.element.Tag'>\n",
      "<class 'bs4.element.Tag'>\n",
      "<class 'bs4.element.Tag'>\n",
      "<class 'bs4.element.Tag'>\n",
      "<class 'bs4.element.Tag'>\n",
      "<class 'bs4.element.Tag'>\n",
      "<class 'bs4.element.Tag'>\n",
      "<class 'bs4.element.Tag'>\n",
      "<class 'bs4.element.Tag'>\n",
      "<class 'bs4.element.Tag'>\n",
      "<class 'bs4.element.Tag'>\n",
      "<class 'bs4.element.Tag'>\n",
      "<class 'bs4.element.Tag'>\n",
      "<class 'bs4.element.Tag'>\n",
      "<class 'bs4.element.Tag'>\n",
      "<class 'bs4.element.Tag'>\n",
      "<class 'bs4.element.Tag'>\n",
      "<class 'bs4.element.Tag'>\n",
      "<class 'bs4.element.Tag'>\n",
      "<class 'bs4.element.Tag'>\n",
      "<class 'bs4.element.Tag'>\n",
      "<class 'bs4.element.Tag'>\n",
      "<class 'bs4.element.Tag'>\n",
      "<class 'bs4.element.Tag'>\n",
      "<class 'bs4.element.Tag'>\n",
      "<class 'bs4.element.Tag'>\n",
      "<class 'bs4.element.Tag'>\n",
      "<class 'bs4.element.Tag'>\n",
      "<class 'bs4.element.Tag'>\n",
      "<class 'bs4.element.Tag'>\n",
      "<class 'bs4.element.Tag'>\n",
      "<class 'bs4.element.Tag'>\n",
      "<class 'bs4.element.Tag'>\n",
      "<class 'bs4.element.Tag'>\n",
      "<class 'bs4.element.Tag'>\n",
      "<class 'bs4.element.Tag'>\n",
      "<class 'bs4.element.Tag'>\n",
      "<class 'bs4.element.Tag'>\n",
      "<class 'bs4.element.Tag'>\n",
      "<class 'bs4.element.Tag'>\n",
      "<class 'bs4.element.Tag'>\n",
      "<class 'bs4.element.Tag'>\n",
      "<class 'bs4.element.Tag'>\n",
      "<class 'bs4.element.Tag'>\n",
      "<class 'bs4.element.Tag'>\n",
      "<class 'bs4.element.Tag'>\n",
      "<class 'bs4.element.Tag'>\n",
      "<class 'bs4.element.Tag'>\n",
      "<class 'bs4.element.Tag'>\n",
      "<class 'bs4.element.Tag'>\n",
      "<class 'bs4.element.Tag'>\n",
      "<class 'bs4.element.Tag'>\n",
      "<class 'bs4.element.Tag'>\n",
      "<class 'bs4.element.Tag'>\n",
      "<class 'bs4.element.Tag'>\n",
      "<class 'bs4.element.Tag'>\n",
      "<class 'bs4.element.Tag'>\n",
      "<class 'bs4.element.Tag'>\n",
      "<class 'bs4.element.Tag'>\n",
      "<class 'bs4.element.Tag'>\n",
      "<class 'bs4.element.Tag'>\n",
      "<class 'bs4.element.Tag'>\n",
      "<class 'bs4.element.Tag'>\n",
      "<class 'bs4.element.Tag'>\n",
      "<class 'bs4.element.Tag'>\n",
      "<class 'bs4.element.Tag'>\n",
      "<class 'bs4.element.Tag'>\n",
      "<class 'bs4.element.Tag'>\n",
      "<class 'bs4.element.Tag'>\n",
      "<class 'bs4.element.Tag'>\n",
      "<class 'bs4.element.Tag'>\n",
      "<class 'bs4.element.Tag'>\n",
      "<class 'bs4.element.Tag'>\n",
      "<class 'bs4.element.Tag'>\n",
      "<class 'bs4.element.Tag'>\n",
      "<class 'bs4.element.Tag'>\n",
      "<class 'bs4.element.Tag'>\n",
      "<class 'bs4.element.Tag'>\n",
      "<class 'bs4.element.Tag'>\n",
      "<class 'bs4.element.Tag'>\n",
      "<class 'bs4.element.Tag'>\n",
      "<class 'bs4.element.Tag'>\n",
      "<class 'bs4.element.Tag'>\n",
      "<class 'bs4.element.Tag'>\n",
      "<class 'bs4.element.Tag'>\n",
      "<class 'bs4.element.Tag'>\n",
      "<class 'bs4.element.Tag'>\n",
      "<class 'bs4.element.Tag'>\n",
      "<class 'bs4.element.Tag'>\n",
      "<class 'bs4.element.Tag'>\n",
      "<class 'bs4.element.Tag'>\n",
      "<class 'bs4.element.Tag'>\n",
      "<class 'bs4.element.Tag'>\n",
      "<class 'bs4.element.Tag'>\n",
      "<class 'bs4.element.Tag'>\n",
      "<class 'bs4.element.Tag'>\n",
      "<class 'bs4.element.Tag'>\n",
      "<class 'bs4.element.Tag'>\n",
      "<class 'bs4.element.Tag'>\n",
      "<class 'bs4.element.Tag'>\n",
      "<class 'bs4.element.Tag'>\n",
      "<class 'bs4.element.Tag'>\n",
      "<class 'bs4.element.Tag'>\n",
      "<class 'bs4.element.Tag'>\n",
      "<class 'bs4.element.Tag'>\n",
      "<class 'bs4.element.Tag'>\n",
      "<class 'bs4.element.Tag'>\n",
      "<class 'bs4.element.Tag'>\n",
      "<class 'bs4.element.Tag'>\n",
      "<class 'bs4.element.Tag'>\n",
      "<class 'bs4.element.Tag'>\n",
      "<class 'bs4.element.Tag'>\n",
      "<class 'bs4.element.Tag'>\n",
      "<class 'bs4.element.Tag'>\n",
      "<class 'bs4.element.Tag'>\n",
      "<class 'bs4.element.Tag'>\n",
      "<class 'bs4.element.Tag'>\n",
      "<class 'bs4.element.Tag'>\n",
      "<class 'bs4.element.Tag'>\n",
      "<class 'bs4.element.Tag'>\n",
      "<class 'bs4.element.Tag'>\n",
      "<class 'bs4.element.Tag'>\n",
      "<class 'bs4.element.Tag'>\n",
      "<class 'bs4.element.Tag'>\n"
     ]
    }
   ],
   "source": [
    "def_texts = []\n",
    "\n",
    "for tag in definit_html:\n",
    "    text = get_text(tag)\n",
    "    def_texts.append(text)"
   ]
  },
  {
   "cell_type": "markdown",
   "metadata": {},
   "source": [
    "Creating a table of definitions, with html, suitable for Machine Learning"
   ]
  },
  {
   "cell_type": "code",
   "execution_count": 29,
   "metadata": {},
   "outputs": [],
   "source": [
    "titles_2 = {'Html': definit_html, 'Definition': def_texts}\n",
    "table_of_definitions_2 = pd.DataFrame(titles_2)"
   ]
  },
  {
   "cell_type": "code",
   "execution_count": 30,
   "metadata": {},
   "outputs": [],
   "source": [
    "table_of_definitions_2 = table_of_definitions_2[table_of_definitions_2['Definition'].map(lambda d: len(d)) > 0].reset_index(drop=True)"
   ]
  },
  {
   "cell_type": "code",
   "execution_count": 31,
   "metadata": {},
   "outputs": [],
   "source": [
    "table_of_definitions_2\n",
    "table_of_definitions_2['Names'] = table_of_definitions_2.Definition.str.split('’ ', expand = True)[0]\n",
    "table_of_definitions_2['Definitions'] = table_of_definitions_2.Definition.str.split('’ ', expand = True)[1]\n"
   ]
  },
  {
   "cell_type": "code",
   "execution_count": 32,
   "metadata": {},
   "outputs": [],
   "source": [
    "table_of_definitions_2.drop('Definition', axis='columns', inplace=True)"
   ]
  },
  {
   "cell_type": "code",
   "execution_count": 33,
   "metadata": {},
   "outputs": [],
   "source": [
    "table_of_definitions_2['Name'] = table_of_definitions_2.Names.str.split('‘', expand = True)[1]"
   ]
  },
  {
   "cell_type": "code",
   "execution_count": 34,
   "metadata": {},
   "outputs": [],
   "source": [
    "table_of_definitions_2.drop('Names', axis='columns', inplace=True)"
   ]
  },
  {
   "cell_type": "code",
   "execution_count": 35,
   "metadata": {},
   "outputs": [
    {
     "data": {
      "text/html": [
       "<div>\n",
       "<style scoped>\n",
       "    .dataframe tbody tr th:only-of-type {\n",
       "        vertical-align: middle;\n",
       "    }\n",
       "\n",
       "    .dataframe tbody tr th {\n",
       "        vertical-align: top;\n",
       "    }\n",
       "\n",
       "    .dataframe thead th {\n",
       "        text-align: right;\n",
       "    }\n",
       "</style>\n",
       "<table border=\"1\" class=\"dataframe\">\n",
       "  <thead>\n",
       "    <tr style=\"text-align: right;\">\n",
       "      <th></th>\n",
       "      <th>Html</th>\n",
       "      <th>Definitions</th>\n",
       "      <th>Name</th>\n",
       "    </tr>\n",
       "  </thead>\n",
       "  <tbody>\n",
       "    <tr>\n",
       "      <th>0</th>\n",
       "      <td>[\\n, [], \\n, [], \\n, [\\n, [\\n, &lt;td valign=\"top\"&gt;\\n&lt;p class=\"normal\"&gt;(1)&lt;/p&gt;\\n&lt;/td&gt;, \\n, &lt;td valign=\"top\"&gt;\\n&lt;p class=\"normal\"&gt;‘investment firm’ means any legal person whose regular occupation or business is the provision of one or more investment services to third parties and/or the performance o...</td>\n",
       "      <td>means any legal person whose regular occupation or business is the provision of one or more investment services to third parties and/or the performance of one or more investment activities on a professional basis. Member States may include in the definition of investment firms undertakings which...</td>\n",
       "      <td>investment firm</td>\n",
       "    </tr>\n",
       "    <tr>\n",
       "      <th>1</th>\n",
       "      <td>[\\n, [], \\n, [], \\n, [\\n, [\\n, &lt;td valign=\"top\"&gt;\\n&lt;p class=\"normal\"&gt;(2)&lt;/p&gt;\\n&lt;/td&gt;, \\n, &lt;td valign=\"top\"&gt;\\n&lt;p class=\"normal\"&gt;‘investment services and activities’ means any of the services and activities listed in Section A of Annex I relating to any of the instruments listed in Section C of Anne...</td>\n",
       "      <td>means any of the services and activities listed in Section A of Annex I relating to any of the instruments listed in Section C of Annex I. The Commission shall adopt delegated acts in accordance with Article 89 measures specifying: (a) the derivative contracts referred to in Section C.6 of Annex...</td>\n",
       "      <td>investment services and activities</td>\n",
       "    </tr>\n",
       "    <tr>\n",
       "      <th>2</th>\n",
       "      <td>[\\n, [], \\n, [], \\n, [\\n, [\\n, &lt;td valign=\"top\"&gt;\\n&lt;p class=\"normal\"&gt;(3)&lt;/p&gt;\\n&lt;/td&gt;, \\n, &lt;td valign=\"top\"&gt;\\n&lt;p class=\"normal\"&gt;‘ancillary services’ means any of the services listed in Section B of Annex I;&lt;/p&gt;\\n&lt;/td&gt;, \\n], \\n], \\n]</td>\n",
       "      <td>means any of the services listed in Section B of Annex I;</td>\n",
       "      <td>ancillary services</td>\n",
       "    </tr>\n",
       "    <tr>\n",
       "      <th>3</th>\n",
       "      <td>[\\n, [], \\n, [], \\n, [\\n, [\\n, &lt;td valign=\"top\"&gt;\\n&lt;p class=\"normal\"&gt;(4)&lt;/p&gt;\\n&lt;/td&gt;, \\n, &lt;td valign=\"top\"&gt;\\n&lt;p class=\"normal\"&gt;‘investment advice’ means the provision of personal recommendations to a client, either upon its request or at the initiative of the investment firm, in respect of one or ...</td>\n",
       "      <td>means the provision of personal recommendations to a client, either upon its request or at the initiative of the investment firm, in respect of one or more transactions relating to financial instruments;</td>\n",
       "      <td>investment advice</td>\n",
       "    </tr>\n",
       "    <tr>\n",
       "      <th>4</th>\n",
       "      <td>[\\n, [], \\n, [], \\n, [\\n, [\\n, &lt;td valign=\"top\"&gt;\\n&lt;p class=\"normal\"&gt;(5)&lt;/p&gt;\\n&lt;/td&gt;, \\n, &lt;td valign=\"top\"&gt;\\n&lt;p class=\"normal\"&gt;‘execution of orders on behalf of clients’ means acting to conclude agreements to buy or sell one or more financial instruments on behalf of clients and includes the concl...</td>\n",
       "      <td>means acting to conclude agreements to buy or sell one or more financial instruments on behalf of clients and includes the conclusion of agreements to sell financial instruments issued by an investment firm or a credit institution at the moment of their issuance;</td>\n",
       "      <td>execution of orders on behalf of clients</td>\n",
       "    </tr>\n",
       "  </tbody>\n",
       "</table>\n",
       "</div>"
      ],
      "text/plain": [
       "                                                                                                                                                                                                                                                                                                          Html  \\\n",
       "0  [\\n, [], \\n, [], \\n, [\\n, [\\n, <td valign=\"top\">\\n<p class=\"normal\">(1)</p>\\n</td>, \\n, <td valign=\"top\">\\n<p class=\"normal\">‘investment firm’ means any legal person whose regular occupation or business is the provision of one or more investment services to third parties and/or the performance o...   \n",
       "1  [\\n, [], \\n, [], \\n, [\\n, [\\n, <td valign=\"top\">\\n<p class=\"normal\">(2)</p>\\n</td>, \\n, <td valign=\"top\">\\n<p class=\"normal\">‘investment services and activities’ means any of the services and activities listed in Section A of Annex I relating to any of the instruments listed in Section C of Anne...   \n",
       "2                                                                        [\\n, [], \\n, [], \\n, [\\n, [\\n, <td valign=\"top\">\\n<p class=\"normal\">(3)</p>\\n</td>, \\n, <td valign=\"top\">\\n<p class=\"normal\">‘ancillary services’ means any of the services listed in Section B of Annex I;</p>\\n</td>, \\n], \\n], \\n]   \n",
       "3  [\\n, [], \\n, [], \\n, [\\n, [\\n, <td valign=\"top\">\\n<p class=\"normal\">(4)</p>\\n</td>, \\n, <td valign=\"top\">\\n<p class=\"normal\">‘investment advice’ means the provision of personal recommendations to a client, either upon its request or at the initiative of the investment firm, in respect of one or ...   \n",
       "4  [\\n, [], \\n, [], \\n, [\\n, [\\n, <td valign=\"top\">\\n<p class=\"normal\">(5)</p>\\n</td>, \\n, <td valign=\"top\">\\n<p class=\"normal\">‘execution of orders on behalf of clients’ means acting to conclude agreements to buy or sell one or more financial instruments on behalf of clients and includes the concl...   \n",
       "\n",
       "                                                                                                                                                                                                                                                                                                   Definitions  \\\n",
       "0  means any legal person whose regular occupation or business is the provision of one or more investment services to third parties and/or the performance of one or more investment activities on a professional basis. Member States may include in the definition of investment firms undertakings which...   \n",
       "1  means any of the services and activities listed in Section A of Annex I relating to any of the instruments listed in Section C of Annex I. The Commission shall adopt delegated acts in accordance with Article 89 measures specifying: (a) the derivative contracts referred to in Section C.6 of Annex...   \n",
       "2                                                                                                                                                                                                                                                    means any of the services listed in Section B of Annex I;   \n",
       "3                                                                                                  means the provision of personal recommendations to a client, either upon its request or at the initiative of the investment firm, in respect of one or more transactions relating to financial instruments;   \n",
       "4                                      means acting to conclude agreements to buy or sell one or more financial instruments on behalf of clients and includes the conclusion of agreements to sell financial instruments issued by an investment firm or a credit institution at the moment of their issuance;   \n",
       "\n",
       "                                       Name  \n",
       "0                           investment firm  \n",
       "1        investment services and activities  \n",
       "2                        ancillary services  \n",
       "3                         investment advice  \n",
       "4  execution of orders on behalf of clients  "
      ]
     },
     "execution_count": 35,
     "metadata": {},
     "output_type": "execute_result"
    }
   ],
   "source": [
    "table_of_definitions_2.head(5)"
   ]
  },
  {
   "cell_type": "markdown",
   "metadata": {},
   "source": [
    "Saving tables of definitions as an Excel files"
   ]
  },
  {
   "cell_type": "code",
   "execution_count": 36,
   "metadata": {},
   "outputs": [],
   "source": [
    "import openpyxl"
   ]
  },
  {
   "cell_type": "code",
   "execution_count": 39,
   "metadata": {},
   "outputs": [],
   "source": [
    "table_of_definitions_2.to_excel(r'/Users/Marta/Desktop/Definitions_ML.xlsx', index = False)"
   ]
  }
 ],
 "metadata": {
  "kernelspec": {
   "display_name": "Python 3",
   "language": "python",
   "name": "python3"
  },
  "language_info": {
   "codemirror_mode": {
    "name": "ipython",
    "version": 3
   },
   "file_extension": ".py",
   "mimetype": "text/x-python",
   "name": "python",
   "nbconvert_exporter": "python",
   "pygments_lexer": "ipython3",
   "version": "3.8.8"
  }
 },
 "nbformat": 4,
 "nbformat_minor": 4
}
